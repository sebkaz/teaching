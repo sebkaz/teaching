{
 "cells": [
  {
   "cell_type": "markdown",
   "metadata": {},
   "source": [
    "# Egzamin\n",
    "\n"
   ]
  },
  {
   "cell_type": "markdown",
   "metadata": {},
   "source": [
    "Jendym z najbardziej popularnych rozkładów danych jest rozkład normalny (Gaussa). Rozkład ten charakteryzowany jest przez dwa parametry : \n",
    "\n",
    "1. Średnią $\\mu$\n",
    "2. Odchylenie standardowe $\\sigma$\n",
    "\n",
    "$$f_{\\mu,\\sigma}(x) = \\frac{1}{\\sigma\\sqrt{2\\pi} } \\exp{\\frac{-(x-\\mu)^2}{2 \\sigma^2}}$$\n",
    "\n",
    "$$X \\sim \\mathcal{N}(\\mu, \\sigma^2)$$"
   ]
  },
  {
   "cell_type": "code",
   "execution_count": 1,
   "metadata": {},
   "outputs": [],
   "source": [
    "import numpy as np\n",
    "import pandas as pd\n",
    "import matplotlib.pyplot as plt\n",
    "%matplotlib inline"
   ]
  },
  {
   "cell_type": "markdown",
   "metadata": {},
   "source": [
    "## 1. Korzystając z powyższych bibliotek narysuj wykres rozkładu normalnego dla zmiennej losowej X, gdzie: \n",
    "\n",
    "$$ X \\sim \\mathcal{N}(4,2) $$\n"
   ]
  },
  {
   "cell_type": "markdown",
   "metadata": {},
   "source": [
    "## 2. Stwórz zbiór danych zawierający 2000 przypadków dla zmiennych losowych X i Y\n",
    "\n",
    "$$ X \\sim \\mathcal{N}(0.5,0.1) $$\n",
    "$$ Y \\sim \\mathcal{N}(1.5,0.4) $$\n",
    "\n",
    "Narysuj scatter plor obu zmiennych. "
   ]
  },
  {
   "cell_type": "code",
   "execution_count": 2,
   "metadata": {},
   "outputs": [
    {
     "name": "stdout",
     "output_type": "stream",
     "text": [
      "Collecting gTTS\n",
      "  Downloading gTTS-2.1.0-py3-none-any.whl (25 kB)\n",
      "Requirement already satisfied: requests in /Users/air/Desktop/.venv/lib/python3.7/site-packages (from gTTS) (2.22.0)\n",
      "Collecting gtts-token>=1.1.3\n",
      "  Downloading gTTS-token-1.1.3.tar.gz (3.4 kB)\n",
      "Collecting click\n",
      "  Downloading Click-7.0-py2.py3-none-any.whl (81 kB)\n",
      "\u001b[K     |████████████████████████████████| 81 kB 1.9 MB/s eta 0:00:01\n",
      "\u001b[?25hCollecting beautifulsoup4\n",
      "  Downloading beautifulsoup4-4.8.2-py3-none-any.whl (106 kB)\n",
      "\u001b[K     |████████████████████████████████| 106 kB 14.0 MB/s eta 0:00:01\n",
      "\u001b[?25hRequirement already satisfied: six in /Users/air/Desktop/.venv/lib/python3.7/site-packages (from gTTS) (1.13.0)\n",
      "Requirement already satisfied: certifi>=2017.4.17 in /Users/air/Desktop/.venv/lib/python3.7/site-packages (from requests->gTTS) (2019.11.28)\n",
      "Requirement already satisfied: idna<2.9,>=2.5 in /Users/air/Desktop/.venv/lib/python3.7/site-packages (from requests->gTTS) (2.8)\n",
      "Requirement already satisfied: urllib3!=1.25.0,!=1.25.1,<1.26,>=1.21.1 in /Users/air/Desktop/.venv/lib/python3.7/site-packages (from requests->gTTS) (1.25.7)\n",
      "Requirement already satisfied: chardet<3.1.0,>=3.0.2 in /Users/air/Desktop/.venv/lib/python3.7/site-packages (from requests->gTTS) (3.0.4)\n",
      "Collecting soupsieve>=1.2\n",
      "  Downloading soupsieve-1.9.5-py2.py3-none-any.whl (33 kB)\n",
      "Building wheels for collected packages: gtts-token\n",
      "  Building wheel for gtts-token (setup.py) ... \u001b[?25ldone\n",
      "\u001b[?25h  Created wheel for gtts-token: filename=gTTS_token-1.1.3-py3-none-any.whl size=4096 sha256=9fa724e34ee5ae71e9dda8c156523202af8d805e64b3f0d38091fcc3b5d877dd\n",
      "  Stored in directory: /Users/air/Library/Caches/pip/wheels/c1/78/25/81270af5521d88ea8db7da5d4f64872673976eb9692bcb0c13\n",
      "Successfully built gtts-token\n",
      "Installing collected packages: gtts-token, click, soupsieve, beautifulsoup4, gTTS\n",
      "Successfully installed beautifulsoup4-4.8.2 click-7.0 gTTS-2.1.0 gtts-token-1.1.3 soupsieve-1.9.5\n"
     ]
    }
   ],
   "source": [
    "!pip install gTTS"
   ]
  },
  {
   "cell_type": "code",
   "execution_count": 3,
   "metadata": {},
   "outputs": [],
   "source": [
    "from gtts import gTTS\n",
    "import os\n"
   ]
  },
  {
   "cell_type": "code",
   "execution_count": 4,
   "metadata": {},
   "outputs": [
    {
     "data": {
      "text/plain": [
       "32512"
      ]
     },
     "execution_count": 4,
     "metadata": {},
     "output_type": "execute_result"
    }
   ],
   "source": [
    "mytext = \"I pass a very hard exam\"\n",
    "language = 'en'\n",
    "myobj = gTTS(text=mytext, lang=language, slow=False)\n",
    "myobj.save(\"test.mp3\")\n",
    "os.system(\"mpg321 test.mp3\")"
   ]
  },
  {
   "cell_type": "code",
   "execution_count": 6,
   "metadata": {},
   "outputs": [],
   "source": [
    "te = \"Panie doktorze, przedstawiam rozwiązane zadania.\"\n",
    "m = gTTS(text=te,lang='pl', slow=False)\n",
    "m.save(\"testpl.mp3\")"
   ]
  },
  {
   "cell_type": "code",
   "execution_count": null,
   "metadata": {},
   "outputs": [],
   "source": []
  }
 ],
 "metadata": {
  "kernelspec": {
   "display_name": "Python 3",
   "language": "python",
   "name": "python3"
  },
  "language_info": {
   "codemirror_mode": {
    "name": "ipython",
    "version": 3
   },
   "file_extension": ".py",
   "mimetype": "text/x-python",
   "name": "python",
   "nbconvert_exporter": "python",
   "pygments_lexer": "ipython3",
   "version": "3.7.3"
  }
 },
 "nbformat": 4,
 "nbformat_minor": 2
}
