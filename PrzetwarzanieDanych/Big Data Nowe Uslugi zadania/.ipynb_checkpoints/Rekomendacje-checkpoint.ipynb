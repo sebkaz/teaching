{
 "cells": [
  {
   "cell_type": "markdown",
   "metadata": {},
   "source": [
    "# Nowe usługi 2.0 - Codes\n",
    "\n",
    "## Tworzenie rekomendacji\n",
    "\n",
    "### Gromadzenie preferencji\n"
   ]
  },
  {
   "cell_type": "markdown",
   "metadata": {},
   "source": [
    "\n"
   ]
  },
  {
   "cell_type": "code",
   "execution_count": 1,
   "metadata": {},
   "outputs": [],
   "source": [
    "from recomendations import critics, sim_distance, sim_manhatan, sim_pearson, topMatches"
   ]
  },
  {
   "cell_type": "code",
   "execution_count": 2,
   "metadata": {},
   "outputs": [
    {
     "data": {
      "text/plain": [
       "2.5"
      ]
     },
     "execution_count": 2,
     "metadata": {},
     "output_type": "execute_result"
    }
   ],
   "source": [
    "critics['Lisa Rose']['Kobieta w błękitnej wodzie']"
   ]
  },
  {
   "cell_type": "markdown",
   "metadata": {},
   "source": [
    "### Znajdowanie podobnych użytkowników\n",
    "\n",
    "Jak podobni są do siebie ludzie oceniający ?\n",
    "\n",
    "- Porównaj każdego z każdym i określ `miarę podobieństwa`. np odległość Euklidesowa, bądź korelacja Pearsona"
   ]
  },
  {
   "cell_type": "markdown",
   "metadata": {},
   "source": [
    "#### Euklides "
   ]
  },
  {
   "cell_type": "code",
   "execution_count": 3,
   "metadata": {},
   "outputs": [
    {
     "data": {
      "text/plain": [
       "3.1622776601683795"
      ]
     },
     "execution_count": 3,
     "metadata": {},
     "output_type": "execute_result"
    }
   ],
   "source": [
    "from math import sqrt\n",
    "\n",
    "sqrt(pow(5-4, 2)+ pow(4-1, 2))"
   ]
  },
  {
   "cell_type": "markdown",
   "metadata": {},
   "source": [
    "Zwykła odległość będzie wskazywała duże wartości dla oddalonych od siebie osób - czyli o różnych preferencjach. \n",
    "\n",
    "Aby zmienić wartości warto dokonać transformacji: \n",
    "\n",
    "$1/(1+ \\text{euclid})$\n",
    "\n",
    "Zauważ, że wyniki zawsze będą z przedziału $[0, 1]$ gdzie $1$ oznacz pełną zgodność w ocenach\n"
   ]
  },
  {
   "cell_type": "code",
   "execution_count": 4,
   "metadata": {},
   "outputs": [
    {
     "data": {
      "text/plain": [
       "0.2402530733520421"
      ]
     },
     "execution_count": 4,
     "metadata": {},
     "output_type": "execute_result"
    }
   ],
   "source": [
    "1/(1+sqrt(pow(5-4, 2)+ pow(4-1, 2)))"
   ]
  },
  {
   "cell_type": "code",
   "execution_count": 5,
   "metadata": {},
   "outputs": [
    {
     "data": {
      "text/plain": [
       "0.14814814814814814"
      ]
     },
     "execution_count": 5,
     "metadata": {},
     "output_type": "execute_result"
    }
   ],
   "source": [
    "sim_distance(critics,'Lisa Rose', 'Gene Seymour')"
   ]
  },
  {
   "cell_type": "code",
   "execution_count": 6,
   "metadata": {},
   "outputs": [],
   "source": [
    "distance = {}\n",
    "for el in critics:\n",
    "    distance[el] = [(sim_distance(critics, el, other), other) for other in critics if other!=el]"
   ]
  },
  {
   "cell_type": "code",
   "execution_count": 7,
   "metadata": {},
   "outputs": [
    {
     "data": {
      "text/plain": [
       "{'Lisa Rose': [(0.14814814814814814, 'Gene Seymour'),\n",
       "  (0.4444444444444444, 'Michael Phillips'),\n",
       "  (0.2857142857142857, 'Claudia Puig'),\n",
       "  (0.3333333333333333, 'Mick LaSalle'),\n",
       "  (0.17391304347826086, 'Jack Matthews'),\n",
       "  (0.2222222222222222, 'Tobby')],\n",
       " 'Gene Seymour': [(0.14814814814814814, 'Lisa Rose'),\n",
       "  (0.14285714285714285, 'Michael Phillips'),\n",
       "  (0.13333333333333333, 'Claudia Puig'),\n",
       "  (0.12903225806451613, 'Mick LaSalle'),\n",
       "  (0.6666666666666666, 'Jack Matthews'),\n",
       "  (0.10810810810810811, 'Tobby')],\n",
       " 'Michael Phillips': [(0.4444444444444444, 'Lisa Rose'),\n",
       "  (0.14285714285714285, 'Gene Seymour'),\n",
       "  (0.5714285714285714, 'Claudia Puig'),\n",
       "  (0.2222222222222222, 'Mick LaSalle'),\n",
       "  (0.15384615384615385, 'Jack Matthews'),\n",
       "  (0.2857142857142857, 'Tobby')],\n",
       " 'Claudia Puig': [(0.2857142857142857, 'Lisa Rose'),\n",
       "  (0.13333333333333333, 'Gene Seymour'),\n",
       "  (0.5714285714285714, 'Michael Phillips'),\n",
       "  (0.17391304347826086, 'Mick LaSalle'),\n",
       "  (0.15384615384615385, 'Jack Matthews'),\n",
       "  (0.23529411764705882, 'Tobby')],\n",
       " 'Mick LaSalle': [(0.3333333333333333, 'Lisa Rose'),\n",
       "  (0.12903225806451613, 'Gene Seymour'),\n",
       "  (0.2222222222222222, 'Michael Phillips'),\n",
       "  (0.17391304347826086, 'Claudia Puig'),\n",
       "  (0.13793103448275862, 'Jack Matthews'),\n",
       "  (0.3076923076923077, 'Tobby')],\n",
       " 'Jack Matthews': [(0.17391304347826086, 'Lisa Rose'),\n",
       "  (0.6666666666666666, 'Gene Seymour'),\n",
       "  (0.15384615384615385, 'Michael Phillips'),\n",
       "  (0.15384615384615385, 'Claudia Puig'),\n",
       "  (0.13793103448275862, 'Mick LaSalle'),\n",
       "  (0.11764705882352941, 'Tobby')],\n",
       " 'Tobby': [(0.2222222222222222, 'Lisa Rose'),\n",
       "  (0.10810810810810811, 'Gene Seymour'),\n",
       "  (0.2857142857142857, 'Michael Phillips'),\n",
       "  (0.23529411764705882, 'Claudia Puig'),\n",
       "  (0.3076923076923077, 'Mick LaSalle'),\n",
       "  (0.11764705882352941, 'Jack Matthews')]}"
      ]
     },
     "execution_count": 7,
     "metadata": {},
     "output_type": "execute_result"
    }
   ],
   "source": [
    "distance"
   ]
  },
  {
   "cell_type": "code",
   "execution_count": 8,
   "metadata": {},
   "outputs": [
    {
     "data": {
      "text/plain": [
       "[(0.3076923076923077, 'Mick LaSalle'),\n",
       " (0.2857142857142857, 'Michael Phillips'),\n",
       " (0.23529411764705882, 'Claudia Puig')]"
      ]
     },
     "execution_count": 8,
     "metadata": {},
     "output_type": "execute_result"
    }
   ],
   "source": [
    "topMatches(critics, 'Tobby', n=3)"
   ]
  },
  {
   "cell_type": "code",
   "execution_count": 10,
   "metadata": {},
   "outputs": [
    {
     "data": {
      "text/plain": [
       "[(0.3333333333333333, 'Michael Phillips'),\n",
       " (0.2857142857142857, 'Mick LaSalle'),\n",
       " (0.2857142857142857, 'Claudia Puig')]"
      ]
     },
     "execution_count": 10,
     "metadata": {},
     "output_type": "execute_result"
    }
   ],
   "source": [
    "topMatches(critics, 'Tobby', n=3, similarity=sim_manhatan)"
   ]
  },
  {
   "cell_type": "code",
   "execution_count": 9,
   "metadata": {},
   "outputs": [
    {
     "data": {
      "text/plain": [
       "[(0.9912407071619299, 'Lisa Rose'),\n",
       " (0.9244734516419049, 'Mick LaSalle'),\n",
       " (0.8934051474415647, 'Claudia Puig')]"
      ]
     },
     "execution_count": 9,
     "metadata": {},
     "output_type": "execute_result"
    }
   ],
   "source": [
    "topMatches(critics, 'Tobby', n=3, similarity=sim_pearson)"
   ]
  },
  {
   "cell_type": "code",
   "execution_count": null,
   "metadata": {},
   "outputs": [],
   "source": []
  }
 ],
 "metadata": {
  "kernelspec": {
   "display_name": "Python 3",
   "language": "python",
   "name": "python3"
  },
  "language_info": {
   "codemirror_mode": {
    "name": "ipython",
    "version": 3
   },
   "file_extension": ".py",
   "mimetype": "text/x-python",
   "name": "python",
   "nbconvert_exporter": "python",
   "pygments_lexer": "ipython3",
   "version": "3.7.4"
  }
 },
 "nbformat": 4,
 "nbformat_minor": 2
}
