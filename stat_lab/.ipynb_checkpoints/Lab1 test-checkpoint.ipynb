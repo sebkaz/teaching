{
 "cells": [
  {
   "cell_type": "code",
   "execution_count": 0,
   "metadata": {
    "colab": {
     "base_uri": "https://localhost:8080/",
     "height": 34
    },
    "colab_type": "code",
    "executionInfo": {
     "elapsed": 685,
     "status": "ok",
     "timestamp": 1583851611300,
     "user": {
      "displayName": "Sebastian Zając",
      "photoUrl": "",
      "userId": "13334048044759562188"
     },
     "user_tz": -60
    },
    "id": "an199pM76WCa",
    "outputId": "85ebd9fe-2770-4588-b2b5-2606d0a22f7b"
   },
   "outputs": [
    {
     "name": "stdout",
     "output_type": "stream",
     "text": [
      "hello world!\n"
     ]
    }
   ],
   "source": [
    "print(\"hello world!\")"
   ]
  },
  {
   "cell_type": "markdown",
   "metadata": {
    "colab_type": "text",
    "id": "wkPkUDH_AIza"
   },
   "source": [
    ">> Zadanie 1. Wyszukaj w przeglądarce dane do analiz np \n",
    "- \"awesome data github\",\n",
    "- dane gov pl\n",
    "- datasearch google\n",
    " \n"
   ]
  },
  {
   "cell_type": "markdown",
   "metadata": {
    "colab_type": "text",
    "id": "gPmap2L1_jRD"
   },
   "source": []
  },
  {
   "cell_type": "code",
   "execution_count": 0,
   "metadata": {
    "colab": {},
    "colab_type": "code",
    "id": "dyTeI7t5BaA9"
   },
   "outputs": [],
   "source": [
    "from google.colab import drive\n",
    "import pandas as pd\n",
    "import numpy as np"
   ]
  },
  {
   "cell_type": "markdown",
   "metadata": {
    "colab_type": "text",
    "id": "U_3WWbxh_WII"
   },
   "source": []
  },
  {
   "cell_type": "code",
   "execution_count": 3,
   "metadata": {
    "colab": {
     "base_uri": "https://localhost:8080/",
     "height": 122
    },
    "colab_type": "code",
    "executionInfo": {
     "elapsed": 20684,
     "status": "ok",
     "timestamp": 1583888518934,
     "user": {
      "displayName": "Sebastian Zając",
      "photoUrl": "",
      "userId": "13334048044759562188"
     },
     "user_tz": -60
    },
    "id": "jUbuOJ06B-di",
    "outputId": "9a8696f2-55f4-42e7-b2dd-45d0bdac8e6e"
   },
   "outputs": [
    {
     "name": "stdout",
     "output_type": "stream",
     "text": [
      "Go to this URL in a browser: https://accounts.google.com/o/oauth2/auth?client_id=947318989803-6bn6qk8qdgf4n4g3pfee6491hc0brc4i.apps.googleusercontent.com&redirect_uri=urn%3aietf%3awg%3aoauth%3a2.0%3aoob&response_type=code&scope=email%20https%3a%2f%2fwww.googleapis.com%2fauth%2fdocs.test%20https%3a%2f%2fwww.googleapis.com%2fauth%2fdrive%20https%3a%2f%2fwww.googleapis.com%2fauth%2fdrive.photos.readonly%20https%3a%2f%2fwww.googleapis.com%2fauth%2fpeopleapi.readonly\n",
      "\n",
      "Enter your authorization code:\n",
      "··········\n",
      "Mounted at /content/drive\n"
     ]
    }
   ],
   "source": [
    "drive.mount('/content/drive')"
   ]
  },
  {
   "cell_type": "code",
   "execution_count": 6,
   "metadata": {
    "colab": {
     "base_uri": "https://localhost:8080/",
     "height": 34
    },
    "colab_type": "code",
    "executionInfo": {
     "elapsed": 503,
     "status": "ok",
     "timestamp": 1583888604817,
     "user": {
      "displayName": "Sebastian Zając",
      "photoUrl": "",
      "userId": "13334048044759562188"
     },
     "user_tz": -60
    },
    "id": "TxJerj0kCFzW",
    "outputId": "20fbd1e0-7c3b-419e-d81e-20870290bfcf"
   },
   "outputs": [
    {
     "name": "stdout",
     "output_type": "stream",
     "text": [
      "/content/drive/My Drive\n"
     ]
    }
   ],
   "source": [
    "cd drive/My\\ Drive/\n"
   ]
  },
  {
   "cell_type": "code",
   "execution_count": 7,
   "metadata": {
    "colab": {
     "base_uri": "https://localhost:8080/",
     "height": 85
    },
    "colab_type": "code",
    "executionInfo": {
     "elapsed": 1926,
     "status": "ok",
     "timestamp": 1583888609829,
     "user": {
      "displayName": "Sebastian Zając",
      "photoUrl": "",
      "userId": "13334048044759562188"
     },
     "user_tz": -60
    },
    "id": "2SGuQt4UD25J",
    "outputId": "952df9c3-eb66-4383-ec6c-61acf3cd3ed9"
   },
   "outputs": [
    {
     "name": "stdout",
     "output_type": "stream",
     "text": [
      " Calculus_Made_Easy_Thompson.pdf                \u001b[0m\u001b[01;34mQPoland_Publications\u001b[0m/\n",
      "\u001b[01;34m'Colab Notebooks'\u001b[0m/                              website.zip\n",
      "'Fizyka - Studia II stopnia 2016 - 2017.XLSM'   wizualizacja.rar\n",
      " \u001b[01;34mksiążeczki\u001b[0m/\n"
     ]
    }
   ],
   "source": [
    "ls"
   ]
  },
  {
   "cell_type": "code",
   "execution_count": 8,
   "metadata": {
    "colab": {
     "base_uri": "https://localhost:8080/",
     "height": 34
    },
    "colab_type": "code",
    "executionInfo": {
     "elapsed": 616,
     "status": "ok",
     "timestamp": 1583888636659,
     "user": {
      "displayName": "Sebastian Zając",
      "photoUrl": "",
      "userId": "13334048044759562188"
     },
     "user_tz": -60
    },
    "id": "g8YYdxI0D3z2",
    "outputId": "b84864aa-8085-41ab-835d-c09142bd714d"
   },
   "outputs": [
    {
     "name": "stdout",
     "output_type": "stream",
     "text": [
      "/content/drive/My Drive/Colab Notebooks/zajecia\n"
     ]
    }
   ],
   "source": [
    "cd Colab\\ Notebooks/zajecia\n"
   ]
  },
  {
   "cell_type": "code",
   "execution_count": 9,
   "metadata": {
    "colab": {
     "base_uri": "https://localhost:8080/",
     "height": 51
    },
    "colab_type": "code",
    "executionInfo": {
     "elapsed": 2295,
     "status": "ok",
     "timestamp": 1583888642937,
     "user": {
      "displayName": "Sebastian Zając",
      "photoUrl": "",
      "userId": "13334048044759562188"
     },
     "user_tz": -60
    },
    "id": "69iYBIhID6rv",
    "outputId": "938326a5-481b-4244-9a2e-3d54a18ea4a8"
   },
   "outputs": [
    {
     "name": "stdout",
     "output_type": "stream",
     "text": [
      "\u001b[0m\u001b[01;34mAnalizaDanychR\u001b[0m/  \u001b[01;34mProgramowanie_SAS\u001b[0m/    README.md  \u001b[01;34mstat_lab\u001b[0m/\n",
      "index.html       \u001b[01;34mPrzetwarzanieDanych\u001b[0m/  \u001b[01;34mSOP_SAS\u001b[0m/   \u001b[01;34mstatystyka\u001b[0m/\n"
     ]
    }
   ],
   "source": [
    "ls\n"
   ]
  },
  {
   "cell_type": "code",
   "execution_count": 0,
   "metadata": {
    "colab": {},
    "colab_type": "code",
    "id": "obTQX957ECw4"
   },
   "outputs": [],
   "source": [
    "!echo 'data' >> .gitignore"
   ]
  },
  {
   "cell_type": "code",
   "execution_count": 11,
   "metadata": {
    "colab": {
     "base_uri": "https://localhost:8080/",
     "height": 68
    },
    "colab_type": "code",
    "executionInfo": {
     "elapsed": 1855,
     "status": "ok",
     "timestamp": 1583888704263,
     "user": {
      "displayName": "Sebastian Zając",
      "photoUrl": "",
      "userId": "13334048044759562188"
     },
     "user_tz": -60
    },
    "id": "nc1aATx2H2fN",
    "outputId": "997e3540-be24-4196-ed3f-fd5d0572b296"
   },
   "outputs": [
    {
     "name": "stdout",
     "output_type": "stream",
     "text": [
      ".DS_Store\n",
      ".Rproj.user\n",
      "data\n"
     ]
    }
   ],
   "source": [
    "!cat .gitignore "
   ]
  },
  {
   "cell_type": "code",
   "execution_count": 13,
   "metadata": {
    "colab": {
     "base_uri": "https://localhost:8080/",
     "height": 71
    },
    "colab_type": "code",
    "executionInfo": {
     "elapsed": 2578,
     "status": "ok",
     "timestamp": 1583888812794,
     "user": {
      "displayName": "Sebastian Zając",
      "photoUrl": "",
      "userId": "13334048044759562188"
     },
     "user_tz": -60
    },
    "id": "kxVFTnCYH5nZ",
    "outputId": "ca1822de-b893-42e6-e8ed-3096b8d49da8"
   },
   "outputs": [
    {
     "name": "stderr",
     "output_type": "stream",
     "text": [
      "/usr/local/lib/python3.6/dist-packages/IPython/core/interactiveshell.py:2718: DtypeWarning: Columns (13,16,18,22,24,32,33,40,41,47,51) have mixed types. Specify dtype option on import or set low_memory=False.\n",
      "  interactivity=interactivity, compiler=compiler, result=result)\n"
     ]
    }
   ],
   "source": [
    "df = pd.read_csv(\"stat_lab/data/shoes_price/7210_1.csv\")"
   ]
  },
  {
   "cell_type": "code",
   "execution_count": 14,
   "metadata": {
    "colab": {
     "base_uri": "https://localhost:8080/",
     "height": 258
    },
    "colab_type": "code",
    "executionInfo": {
     "elapsed": 591,
     "status": "ok",
     "timestamp": 1583888821281,
     "user": {
      "displayName": "Sebastian Zając",
      "photoUrl": "",
      "userId": "13334048044759562188"
     },
     "user_tz": -60
    },
    "id": "cv52JvXMIUCb",
    "outputId": "35e36654-8498-46e9-df58-611f8a489267"
   },
   "outputs": [
    {
     "data": {
      "text/plain": [
       "Index(['id', 'asins', 'brand', 'categories', 'colors', 'count', 'dateAdded',\n",
       "       'dateUpdated', 'descriptions', 'dimension', 'ean', 'features',\n",
       "       'flavors', 'imageURLs', 'isbn', 'keys', 'manufacturer',\n",
       "       'manufacturerNumber', 'merchants', 'name', 'prices.amountMin',\n",
       "       'prices.amountMax', 'prices.availability', 'prices.color',\n",
       "       'prices.condition', 'prices.count', 'prices.currency',\n",
       "       'prices.dateAdded', 'prices.dateSeen', 'prices.flavor', 'prices.isSale',\n",
       "       'prices.merchant', 'prices.offer', 'prices.returnPolicy',\n",
       "       'prices.shipping', 'prices.size', 'prices.source', 'prices.sourceURLs',\n",
       "       'prices.warranty', 'quantities', 'reviews', 'sizes', 'skus',\n",
       "       'sourceURLs', 'upc', 'vin', 'websiteIDs', 'weight', 'Unnamed: 48',\n",
       "       'Unnamed: 49', 'Unnamed: 50', 'Unnamed: 51'],\n",
       "      dtype='object')"
      ]
     },
     "execution_count": 14,
     "metadata": {
      "tags": []
     },
     "output_type": "execute_result"
    }
   ],
   "source": [
    "df.columns"
   ]
  },
  {
   "cell_type": "code",
   "execution_count": 15,
   "metadata": {
    "colab": {
     "base_uri": "https://localhost:8080/",
     "height": 34
    },
    "colab_type": "code",
    "executionInfo": {
     "elapsed": 575,
     "status": "ok",
     "timestamp": 1583888883014,
     "user": {
      "displayName": "Sebastian Zając",
      "photoUrl": "",
      "userId": "13334048044759562188"
     },
     "user_tz": -60
    },
    "id": "aHfbLrfiIWmP",
    "outputId": "e0be4cb2-441e-443b-b3e1-e98a01234038"
   },
   "outputs": [
    {
     "data": {
      "text/plain": [
       "array(['USD', 'CAD', 'EUR', 'AUD', 'GBP'], dtype=object)"
      ]
     },
     "execution_count": 15,
     "metadata": {
      "tags": []
     },
     "output_type": "execute_result"
    }
   ],
   "source": [
    "df['prices.currency'].unique()"
   ]
  },
  {
   "cell_type": "code",
   "execution_count": 16,
   "metadata": {
    "colab": {
     "base_uri": "https://localhost:8080/",
     "height": 119
    },
    "colab_type": "code",
    "executionInfo": {
     "elapsed": 453,
     "status": "ok",
     "timestamp": 1583888911834,
     "user": {
      "displayName": "Sebastian Zając",
      "photoUrl": "",
      "userId": "13334048044759562188"
     },
     "user_tz": -60
    },
    "id": "XHCB1QX_Ilql",
    "outputId": "2d3d9335-81f6-43be-8364-ae042b0a0ec9"
   },
   "outputs": [
    {
     "data": {
      "text/plain": [
       "USD    32680\n",
       "CAD     1008\n",
       "EUR      101\n",
       "AUD       11\n",
       "GBP        1\n",
       "Name: prices.currency, dtype: int64"
      ]
     },
     "execution_count": 16,
     "metadata": {
      "tags": []
     },
     "output_type": "execute_result"
    }
   ],
   "source": [
    "df['prices.currency'].value_counts()"
   ]
  },
  {
   "cell_type": "code",
   "execution_count": 17,
   "metadata": {
    "colab": {
     "base_uri": "https://localhost:8080/",
     "height": 119
    },
    "colab_type": "code",
    "executionInfo": {
     "elapsed": 481,
     "status": "ok",
     "timestamp": 1583888943617,
     "user": {
      "displayName": "Sebastian Zając",
      "photoUrl": "",
      "userId": "13334048044759562188"
     },
     "user_tz": -60
    },
    "id": "rwM0rbdeIsvO",
    "outputId": "a7555132-041e-4373-b99e-a39bc3fbe857"
   },
   "outputs": [
    {
     "data": {
      "text/plain": [
       "USD    0.966835\n",
       "CAD    0.029822\n",
       "EUR    0.002988\n",
       "AUD    0.000325\n",
       "GBP    0.000030\n",
       "Name: prices.currency, dtype: float64"
      ]
     },
     "execution_count": 17,
     "metadata": {
      "tags": []
     },
     "output_type": "execute_result"
    }
   ],
   "source": [
    "df['prices.currency'].value_counts(normalize=True)"
   ]
  },
  {
   "cell_type": "code",
   "execution_count": 0,
   "metadata": {
    "colab": {},
    "colab_type": "code",
    "id": "OXTUXKNTI0fc"
   },
   "outputs": [],
   "source": [
    "df_usd = df[ df['prices.currency']=='USD' ].copy()"
   ]
  },
  {
   "cell_type": "code",
   "execution_count": 20,
   "metadata": {
    "colab": {
     "base_uri": "https://localhost:8080/",
     "height": 34
    },
    "colab_type": "code",
    "executionInfo": {
     "elapsed": 642,
     "status": "ok",
     "timestamp": 1583889019820,
     "user": {
      "displayName": "Sebastian Zając",
      "photoUrl": "",
      "userId": "13334048044759562188"
     },
     "user_tz": -60
    },
    "id": "9aoWsZ8jJCA_",
    "outputId": "4f22e544-9c2f-4d9b-b3f7-2f9f459b0a70"
   },
   "outputs": [
    {
     "data": {
      "text/plain": [
       "((32680, 52), (33801, 52))"
      ]
     },
     "execution_count": 20,
     "metadata": {
      "tags": []
     },
     "output_type": "execute_result"
    }
   ],
   "source": [
    "df_usd.shape, df.shape"
   ]
  },
  {
   "cell_type": "code",
   "execution_count": 22,
   "metadata": {
    "colab": {
     "base_uri": "https://localhost:8080/",
     "height": 258
    },
    "colab_type": "code",
    "executionInfo": {
     "elapsed": 501,
     "status": "ok",
     "timestamp": 1583889091998,
     "user": {
      "displayName": "Sebastian Zając",
      "photoUrl": "",
      "userId": "13334048044759562188"
     },
     "user_tz": -60
    },
    "id": "2aOPOXmPJEMu",
    "outputId": "f66460bb-5887-4121-bbe6-2332e87702c0"
   },
   "outputs": [
    {
     "data": {
      "text/plain": [
       "Index(['id', 'asins', 'brand', 'categories', 'colors', 'count', 'dateAdded',\n",
       "       'dateUpdated', 'descriptions', 'dimension', 'ean', 'features',\n",
       "       'flavors', 'imageURLs', 'isbn', 'keys', 'manufacturer',\n",
       "       'manufacturerNumber', 'merchants', 'name', 'prices.amountMin',\n",
       "       'prices.amountMax', 'prices.availability', 'prices.color',\n",
       "       'prices.condition', 'prices.count', 'prices.currency',\n",
       "       'prices.dateAdded', 'prices.dateSeen', 'prices.flavor', 'prices.isSale',\n",
       "       'prices.merchant', 'prices.offer', 'prices.returnPolicy',\n",
       "       'prices.shipping', 'prices.size', 'prices.source', 'prices.sourceURLs',\n",
       "       'prices.warranty', 'quantities', 'reviews', 'sizes', 'skus',\n",
       "       'sourceURLs', 'upc', 'vin', 'websiteIDs', 'weight', 'Unnamed: 48',\n",
       "       'Unnamed: 49', 'Unnamed: 50', 'Unnamed: 51'],\n",
       "      dtype='object')"
      ]
     },
     "execution_count": 22,
     "metadata": {
      "tags": []
     },
     "output_type": "execute_result"
    }
   ],
   "source": [
    "df_usd.columns"
   ]
  },
  {
   "cell_type": "code",
   "execution_count": 23,
   "metadata": {
    "colab": {
     "base_uri": "https://localhost:8080/",
     "height": 119
    },
    "colab_type": "code",
    "executionInfo": {
     "elapsed": 472,
     "status": "ok",
     "timestamp": 1583889116316,
     "user": {
      "displayName": "Sebastian Zając",
      "photoUrl": "",
      "userId": "13334048044759562188"
     },
     "user_tz": -60
    },
    "id": "ph6G4Gf4JT5U",
    "outputId": "0765a516-460e-4b70-ae87-7cf8d568d258"
   },
   "outputs": [
    {
     "data": {
      "text/plain": [
       "0    62.99\n",
       "1    62.99\n",
       "2    62.99\n",
       "3    62.99\n",
       "4    62.99\n",
       "Name: prices.amountMin, dtype: float64"
      ]
     },
     "execution_count": 23,
     "metadata": {
      "tags": []
     },
     "output_type": "execute_result"
    }
   ],
   "source": [
    "df_usd['prices.amountMin'].head()"
   ]
  },
  {
   "cell_type": "code",
   "execution_count": 24,
   "metadata": {
    "colab": {
     "base_uri": "https://localhost:8080/",
     "height": 282
    },
    "colab_type": "code",
    "executionInfo": {
     "elapsed": 486,
     "status": "ok",
     "timestamp": 1583889157920,
     "user": {
      "displayName": "Sebastian Zając",
      "photoUrl": "",
      "userId": "13334048044759562188"
     },
     "user_tz": -60
    },
    "id": "fBDUVYMFJep3",
    "outputId": "92a304e5-837d-46af-90fe-364a6cad65a0"
   },
   "outputs": [
    {
     "data": {
      "text/plain": [
       "<matplotlib.axes._subplots.AxesSubplot at 0x7f4f3d750630>"
      ]
     },
     "execution_count": 24,
     "metadata": {
      "tags": []
     },
     "output_type": "execute_result"
    },
    {
     "data": {
      "image/png": "[encoded data removed]",
      "text/plain": [
       "<Figure size 432x288 with 1 Axes>"
      ]
     },
     "metadata": {
      "tags": []
     },
     "output_type": "display_data"
    }
   ],
   "source": [
    "df_usd['prices.amountMin'].hist()"
   ]
  },
  {
   "cell_type": "code",
   "execution_count": 27,
   "metadata": {
    "colab": {
     "base_uri": "https://localhost:8080/",
     "height": 34
    },
    "colab_type": "code",
    "executionInfo": {
     "elapsed": 501,
     "status": "ok",
     "timestamp": 1583889239477,
     "user": {
      "displayName": "Sebastian Zając",
      "photoUrl": "",
      "userId": "13334048044759562188"
     },
     "user_tz": -60
    },
    "id": "jZVoN8N6Jozu",
    "outputId": "a16593ba-727e-4e65-ec25-553cc2c4747d"
   },
   "outputs": [
    {
     "data": {
      "text/plain": [
       "850.0"
      ]
     },
     "execution_count": 27,
     "metadata": {
      "tags": []
     },
     "output_type": "execute_result"
    }
   ],
   "source": [
    "# usun wartosci odstajace \n",
    "np.percentile(df_usd['prices.amountMin'],99)"
   ]
  },
  {
   "cell_type": "code",
   "execution_count": 0,
   "metadata": {
    "colab": {},
    "colab_type": "code",
    "id": "wEJWxdP6J32e"
   },
   "outputs": [],
   "source": [
    "filter_max = np.percentile(df_usd['prices.amountMin'],99)\n",
    "\n",
    "df_usd_filtered = df_usd[df_usd['prices.amountMin']<filter_max ]"
   ]
  },
  {
   "cell_type": "code",
   "execution_count": 31,
   "metadata": {
    "colab": {
     "base_uri": "https://localhost:8080/",
     "height": 282
    },
    "colab_type": "code",
    "executionInfo": {
     "elapsed": 780,
     "status": "ok",
     "timestamp": 1583889364195,
     "user": {
      "displayName": "Sebastian Zając",
      "photoUrl": "",
      "userId": "13334048044759562188"
     },
     "user_tz": -60
    },
    "id": "cAnuLhQVKSz8",
    "outputId": "ad51a8bf-319c-496d-db9f-6c2734cd137f"
   },
   "outputs": [
    {
     "data": {
      "text/plain": [
       "<matplotlib.axes._subplots.AxesSubplot at 0x7f4f3b7dc278>"
      ]
     },
     "execution_count": 31,
     "metadata": {
      "tags": []
     },
     "output_type": "execute_result"
    },
    {
     "data": {
      "image/png": "[encoded data removed]",
      "text/plain": [
       "<Figure size 432x288 with 1 Axes>"
      ]
     },
     "metadata": {
      "tags": []
     },
     "output_type": "display_data"
    }
   ],
   "source": [
    "df_usd_filtered['prices.amountMin'].hist(bins=100)"
   ]
  },
  {
   "cell_type": "code",
   "execution_count": 32,
   "metadata": {
    "colab": {
     "base_uri": "https://localhost:8080/",
     "height": 51
    },
    "colab_type": "code",
    "executionInfo": {
     "elapsed": 1967,
     "status": "ok",
     "timestamp": 1583889475293,
     "user": {
      "displayName": "Sebastian Zając",
      "photoUrl": "",
      "userId": "13334048044759562188"
     },
     "user_tz": -60
    },
    "id": "UZIrAmCaKVdw",
    "outputId": "3486409b-0266-413d-acc6-6b8aef64b145"
   },
   "outputs": [
    {
     "name": "stdout",
     "output_type": "stream",
     "text": [
      "\u001b[0m\u001b[01;34mAnalizaDanychR\u001b[0m/  \u001b[01;34mProgramowanie_SAS\u001b[0m/    README.md  \u001b[01;34mstat_lab\u001b[0m/\n",
      "index.html       \u001b[01;34mPrzetwarzanieDanych\u001b[0m/  \u001b[01;34mSOP_SAS\u001b[0m/   \u001b[01;34mstatystyka\u001b[0m/\n"
     ]
    }
   ],
   "source": [
    "ls"
   ]
  },
  {
   "cell_type": "code",
   "execution_count": 35,
   "metadata": {
    "colab": {
     "base_uri": "https://localhost:8080/",
     "height": 34
    },
    "colab_type": "code",
    "executionInfo": {
     "elapsed": 42637,
     "status": "ok",
     "timestamp": 1583889592038,
     "user": {
      "displayName": "Sebastian Zając",
      "photoUrl": "",
      "userId": "13334048044759562188"
     },
     "user_tz": -60
    },
    "id": "WU6zdkVcK16F",
    "outputId": "1831e8e6-4183-495a-f9ba-b3d01a82cdb4"
   },
   "outputs": [
    {
     "name": "stdout",
     "output_type": "stream",
     "text": [
      "^C\n"
     ]
    }
   ],
   "source": [
    "!git status"
   ]
  },
  {
   "cell_type": "code",
   "execution_count": 0,
   "metadata": {
    "colab": {},
    "colab_type": "code",
    "id": "2ekLvTaJK8E5"
   },
   "outputs": [],
   "source": []
  }
 ],
 "metadata": {
  "colab": {
   "authorship_tag": "ABX9TyOtOn2InTY8ZLJebDJheUic",
   "collapsed_sections": [],
   "name": "Lab1 test.ipynb",
   "provenance": []
  },
  "kernelspec": {
   "display_name": "Python 3",
   "language": "python",
   "name": "python3"
  },
  "language_info": {
   "codemirror_mode": {
    "name": "ipython",
    "version": 3
   },
   "file_extension": ".py",
   "mimetype": "text/x-python",
   "name": "python",
   "nbconvert_exporter": "python",
   "pygments_lexer": "ipython3",
   "version": "3.8.5"
  }
 },
 "nbformat": 4,
 "nbformat_minor": 1
}
