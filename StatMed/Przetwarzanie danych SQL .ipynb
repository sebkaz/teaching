{
 "cells": [
  {
   "cell_type": "markdown",
   "metadata": {},
   "source": [
    "## Using Flat Files for Data Storage\n",
    "\n",
    "A flat file is a file containing data with no internal hierarchy and usually no references to external files. Flat files contain human-readable characters and are very useful for creating and reading data. Because they don’t have to use fixed field widths, flat files often use other structures to make it possible for a program to parse text.\n",
    "\n",
    "For example, comma-separated value (CSV) files are lines of plain text in which the comma character separates the data elements. Each line of text represents a row of data, and each comma-separated value is a field within that row. The comma character delimiter indicates the boundary between data values.\n",
    "\n",
    "Python excels at reading from and saving to files. Being able to read data files with Python allows you to restore an application to a useful state when you rerun it at a later time. Being able to save data in a file allows you to share information from the program between users and sites where the application runs.\n",
    "\n",
    "Before a program can read a data file, it has to be able to understand the data. Usually, this means the data file needs to have some structure that the application can use to read and parse the text in the file.\n",
    "\n",
    "Below is a CSV file named author_book_publisher.csv, used by the first example program in this tutorial:"
   ]
  },
  {
   "cell_type": "code",
   "execution_count": 1,
   "metadata": {},
   "outputs": [
    {
     "name": "stdout",
     "output_type": "stream",
     "text": [
      "Writing author_book_publisher.csv\n"
     ]
    }
   ],
   "source": [
    "%%writefile author_book_publisher.csv\n",
    "first_name,last_name,title,publisher\n",
    "Isaac,Asimov,Foundation,Random House\n",
    "Pearl,Buck,The Good Earth,Random House\n",
    "Pearl,Buck,The Good Earth,Simon & Schuster\n",
    "Tom,Clancy,The Hunt For Red October,Berkley\n",
    "Tom,Clancy,Patriot Games,Simon & Schuster\n",
    "Stephen,King,It,Random House\n",
    "Stephen,King,It,Penguin Random House\n",
    "Stephen,King,Dead Zone,Random House\n",
    "Stephen,King,The Shining,Penguin Random House\n",
    "John,Le Carre,\"Tinker, Tailor, Solider, Spy: A George Smiley Novel\",Berkley\n",
    "Alex,Michaelides,The Silent Patient,Simon & Schuster\n",
    "Carol,Shaben,Into The Abyss,Simon & Schuster"
   ]
  },
  {
   "cell_type": "markdown",
   "metadata": {},
   "source": [
    "(jupyter info)[https://www.dataquest.io/blog/jupyter-notebook-tips-tricks-shortcuts/]\n",
    "\n",
    "(flask)[https://realpython.com/flask-by-example-part-2-postgres-sqlalchemy-and-alembic/]\n",
    "\n",
    "(debug)[https://realpython.com/python-debug-idle/]\n",
    "\n",
    "(plot)[https://realpython.com/pandas-plot-python/]\n",
    "\n",
    "(python3.9)[https://realpython.com/courses/cool-new-features-python-39/]\n",
    "\n",
    "(tutorials)[https://realpython.com]\n",
    "\n",
    "(sql)[https://realpython.com/prevent-python-sql-injection/]\n",
    "\n",
    "(przetwarzanie danych)[https://realpython.com/python-sqlite-sqlalchemy/?utm_medium=email&utm_source=getresponse&utm_content=😊💻Co+tam+w+technicznym+zakątku+danych%3F+🔥✨&utm_campaign=]"
   ]
  },
  {
   "cell_type": "code",
   "execution_count": null,
   "metadata": {},
   "outputs": [],
   "source": []
  }
 ],
 "metadata": {
  "kernelspec": {
   "display_name": "Python 3",
   "language": "python",
   "name": "python3"
  },
  "language_info": {
   "codemirror_mode": {
    "name": "ipython",
    "version": 3
   },
   "file_extension": ".py",
   "mimetype": "text/x-python",
   "name": "python",
   "nbconvert_exporter": "python",
   "pygments_lexer": "ipython3",
   "version": "3.8.6"
  }
 },
 "nbformat": 4,
 "nbformat_minor": 4
}
