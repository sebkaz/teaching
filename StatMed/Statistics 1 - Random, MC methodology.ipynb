{
 "cells": [
  {
   "cell_type": "markdown",
   "metadata": {},
   "source": [
    "# Monte Carlo Simulations\n",
    "\n",
    "## Random Numbers and Monte Carlo Simulation\n",
    "\n",
    "Many of the code examples in this book make use of pseudorandom number generation, often\n",
    "coupled with the so-called Monte Carlo simulation method for obtaining numerical estimates. \n",
    "The phrase `Monte Carlo` associated with random number generation comes from the European province\n",
    "in Monaco famous for its many casinos. \n",
    "We now overview the core ideas and principles of random number generation and Monte Carlo simulation.\n",
    "The main player in this discussion is the `rand()` function. \n",
    "When used without input arguments, rand() generates a “random” number in the interval [0; 1]. Several questions can be asked. How\n",
    "is it random? What does random within the interval [0; 1] really mean? How can it be used as an\n",
    "aid for statistical and scientific computation? For this we discuss pseudorandom numbers in a bit\n",
    "more generality.\n",
    "The “random” numbers we generate using Python, as well as most “random” numbers used in any\n",
    "other scientific computing platform, are actually pseudorandom. That is, they aren’t really random\n",
    "but rather appear random. For their generation, there is some deterministic (non-random and well\n",
    "defined) sequence, fxng, specified by \n",
    "$$ x_{n+1} = f(x_n, x_{n-1},\\dots)$$\n",
    "originating from some specified seed, $x_0$.\n",
    "The mathematical function, $f()$ is often (but not always)\n",
    "quite a complicated function, designed to yield desirable properties for the sequence fxng that make\n",
    "it appear random. Among other properties we wish for the following to hold:\n",
    "\n",
    "- Elements $x_i$ and $x_j$ for $i \\neq j$ should appear statistically independent. That is, knowing the value of $x_i$ should not yield information about the value of $x_j$ .\n",
    "- The distribution of fxng should appear uniform. That is, there shouldn’t be values (or ranges of values) where elements of fxng occur more frequently than others.\n",
    "- The range covered by fxng should be well defined.\n",
    "- The sequence should repeat itself as rarely as possible.\n"
   ]
  },
  {
   "cell_type": "code",
   "execution_count": 8,
   "metadata": {},
   "outputs": [],
   "source": [
    "from random import random"
   ]
  },
  {
   "cell_type": "code",
   "execution_count": 10,
   "metadata": {},
   "outputs": [
    {
     "data": {
      "text/plain": [
       "0.12280396662234327"
      ]
     },
     "execution_count": 10,
     "metadata": {},
     "output_type": "execute_result"
    }
   ],
   "source": [
    "random()"
   ]
  },
  {
   "cell_type": "code",
   "execution_count": 11,
   "metadata": {},
   "outputs": [
    {
     "data": {
      "text/plain": [
       "0.7765008021454447"
      ]
     },
     "execution_count": 11,
     "metadata": {},
     "output_type": "execute_result"
    }
   ],
   "source": [
    "a = random()\n",
    "a"
   ]
  },
  {
   "cell_type": "code",
   "execution_count": 14,
   "metadata": {},
   "outputs": [
    {
     "data": {
      "text/plain": [
       "[0.8597608736470094, 0.5251386589685444]"
      ]
     },
     "execution_count": 14,
     "metadata": {},
     "output_type": "execute_result"
    }
   ],
   "source": [
    "[random(), random()]"
   ]
  },
  {
   "cell_type": "markdown",
   "metadata": {},
   "source": [
    "## Coin Flip "
   ]
  },
  {
   "cell_type": "code",
   "execution_count": 16,
   "metadata": {},
   "outputs": [],
   "source": [
    "import random\n",
    "import numpy as np\n",
    "import matplotlib.pyplot as plt"
   ]
  },
  {
   "cell_type": "code",
   "execution_count": null,
   "metadata": {},
   "outputs": [],
   "source": [
    "# coin flip def\n",
    "# 0 -> Head\n",
    "# 1 -> Tails\n",
    "\n",
    "def coin_flip():\n",
    "    return random.randint(0,1)"
   ]
  },
  {
   "cell_type": "code",
   "execution_count": null,
   "metadata": {},
   "outputs": [],
   "source": [
    "coin_flip()"
   ]
  },
  {
   "cell_type": "code",
   "execution_count": null,
   "metadata": {},
   "outputs": [],
   "source": [
    "def mc_flip(n):\n",
    "    lista1 = []\n",
    "    results = 0\n",
    "    for i in range(n):\n",
    "        flip_res = coin_flip()\n",
    "        results = results + flip_res\n",
    "        \n",
    "        prob_value = results/(i+1)\n",
    "        \n",
    "        lista1.append(prob_value)\n",
    "    return lista1, results/n\n",
    "\n",
    "\n",
    "def Iter_plot(lista, yname=\"Probability\"):\n",
    "    plt.axhline(y=0.5, color='r', linestyle='-')\n",
    "    plt.xlabel(\"Iterations\")\n",
    "    plt.ylabel(yname)\n",
    "    plt.plot(lista)\n"
   ]
  },
  {
   "cell_type": "code",
   "execution_count": null,
   "metadata": {},
   "outputs": [],
   "source": [
    "def example(n):\n",
    "    l1,first = mc_flip(n)\n",
    "    print(\"aprox prob: \", first)\n",
    "    Iter_plot(l1)"
   ]
  },
  {
   "cell_type": "code",
   "execution_count": null,
   "metadata": {},
   "outputs": [],
   "source": [
    "example(100)"
   ]
  },
  {
   "cell_type": "code",
   "execution_count": null,
   "metadata": {},
   "outputs": [],
   "source": [
    "example(1000)"
   ]
  },
  {
   "cell_type": "markdown",
   "metadata": {},
   "source": [
    "## PI "
   ]
  },
  {
   "cell_type": "code",
   "execution_count": 1,
   "metadata": {},
   "outputs": [
    {
     "data": {
      "text/plain": [
       "[0, 1, 2, 3, 4, 5, 6, 7, 8, 9]"
      ]
     },
     "execution_count": 1,
     "metadata": {},
     "output_type": "execute_result"
    }
   ],
   "source": [
    "zm = list(range(10))\n",
    "zm"
   ]
  },
  {
   "cell_type": "code",
   "execution_count": 2,
   "metadata": {},
   "outputs": [
    {
     "name": "stdout",
     "output_type": "stream",
     "text": [
      "abc\n",
      "abcsdasda\n",
      "sdasd\n",
      "sdasdsdasda\n",
      "sdasdwd\n",
      "sdasdwdsdasda\n"
     ]
    }
   ],
   "source": [
    "for x in [\"abc\",'sdasd','sdasdwd']:\n",
    "    print(x)\n",
    "    print(x+'sdasda')"
   ]
  },
  {
   "cell_type": "code",
   "execution_count": 5,
   "metadata": {},
   "outputs": [
    {
     "data": {
      "text/plain": [
       "[0, 1, 4, 9, 16, 25, 36, 49, 64, 81]"
      ]
     },
     "execution_count": 5,
     "metadata": {},
     "output_type": "execute_result"
    }
   ],
   "source": [
    "nl = []\n",
    "for x in zm:\n",
    "    nl.append(x**2)\n",
    "\n",
    "nl"
   ]
  },
  {
   "cell_type": "code",
   "execution_count": 6,
   "metadata": {},
   "outputs": [
    {
     "data": {
      "text/plain": [
       "9"
      ]
     },
     "execution_count": 6,
     "metadata": {},
     "output_type": "execute_result"
    }
   ],
   "source": [
    "x"
   ]
  },
  {
   "cell_type": "code",
   "execution_count": 7,
   "metadata": {},
   "outputs": [
    {
     "data": {
      "text/plain": [
       "[0, 2, 4, 6, 8]"
      ]
     },
     "execution_count": 7,
     "metadata": {},
     "output_type": "execute_result"
    }
   ],
   "source": [
    "[ el for el in zm if el%2==0 ]"
   ]
  },
  {
   "cell_type": "code",
   "execution_count": 17,
   "metadata": {},
   "outputs": [
    {
     "data": {
      "text/plain": [
       "[0.34185814039546414,\n",
       " 0.8800456883387737,\n",
       " 0.5415940334910543,\n",
       " 0.7001413501265731,\n",
       " 0.052404433950134166,\n",
       " 0.13743371278351424,\n",
       " 0.8712621713975444,\n",
       " 0.1375011264717081,\n",
       " 0.23143063062001168,\n",
       " 0.03620505561435816]"
      ]
     },
     "execution_count": 17,
     "metadata": {},
     "output_type": "execute_result"
    }
   ],
   "source": [
    "N=10\n",
    "\n",
    "[random.random() for _ in range(N)]"
   ]
  },
  {
   "cell_type": "code",
   "execution_count": 18,
   "metadata": {},
   "outputs": [],
   "source": [
    "data = [[random.random(),random.random()] for _ in range(10)]"
   ]
  },
  {
   "cell_type": "code",
   "execution_count": 20,
   "metadata": {},
   "outputs": [
    {
     "data": {
      "text/plain": [
       "[[0.20607719000669078, 0.7088613460344504],\n",
       " [0.49731698053063644, 0.23402023732637767],\n",
       " [0.6130501495987567, 0.4349319337338228],\n",
       " [0.8991329309548125, 0.051548925798435286],\n",
       " [0.71561630285996, 0.5187899429670978],\n",
       " [0.38224597157013906, 0.15961048595893979],\n",
       " [0.906261605529663, 0.11669126993185841],\n",
       " [0.9064947990586171, 0.764220717061436],\n",
       " [0.7164425676918694, 0.3863114469186236],\n",
       " [0.4475340603266633, 0.520320888781984]]"
      ]
     },
     "execution_count": 20,
     "metadata": {},
     "output_type": "execute_result"
    }
   ],
   "source": [
    "data"
   ]
  },
  {
   "cell_type": "code",
   "execution_count": 21,
   "metadata": {},
   "outputs": [
    {
     "data": {
      "text/plain": [
       "[0.8991329309548125, 0.051548925798435286]"
      ]
     },
     "execution_count": 21,
     "metadata": {},
     "output_type": "execute_result"
    }
   ],
   "source": [
    "data[3]"
   ]
  },
  {
   "cell_type": "code",
   "execution_count": 22,
   "metadata": {},
   "outputs": [
    {
     "data": {
      "text/plain": [
       "0.30208965060240356"
      ]
     },
     "execution_count": 22,
     "metadata": {},
     "output_type": "execute_result"
    }
   ],
   "source": [
    "data[1][0]**2+data[1][1]**2"
   ]
  },
  {
   "cell_type": "code",
   "execution_count": 23,
   "metadata": {},
   "outputs": [],
   "source": [
    "from numpy.linalg import norm"
   ]
  },
  {
   "cell_type": "code",
   "execution_count": 25,
   "metadata": {},
   "outputs": [
    {
     "name": "stdout",
     "output_type": "stream",
     "text": [
      "wektor [0.20607719000669078, 0.7088613460344504] , suma kwadratow = 0.5449522161428266, \n",
      " sqrt(sumy kwardratow)      = 0.7382087889905041\n"
     ]
    }
   ],
   "source": [
    "print(f\"wektor {data[0]} , suma kwadratow = {data[0][0]**2+data[0][1]**2}, \\n sqrt(sumy kwardratow)\\\n",
    "      = {np.sqrt(data[0][0]**2+data[0][1]**2)}\")"
   ]
  },
  {
   "cell_type": "code",
   "execution_count": 26,
   "metadata": {},
   "outputs": [],
   "source": [
    "def dlugosc(x):\n",
    "    return np.sqrt(x[0]**2+x[1]**2) "
   ]
  },
  {
   "cell_type": "code",
   "execution_count": 27,
   "metadata": {},
   "outputs": [
    {
     "data": {
      "text/plain": [
       "0.5496268284958473"
      ]
     },
     "execution_count": 27,
     "metadata": {},
     "output_type": "execute_result"
    }
   ],
   "source": [
    "dlugosc(data[1])"
   ]
  },
  {
   "cell_type": "code",
   "execution_count": 28,
   "metadata": {},
   "outputs": [
    {
     "data": {
      "text/plain": [
       "[0.7382087889905041,\n",
       " 0.5496268284958473,\n",
       " 0.7516623396875092,\n",
       " 0.9006094154950659,\n",
       " 0.8838833055572227,\n",
       " 0.41423120356830734,\n",
       " 0.9137433721431375,\n",
       " 1.1856500854409862,\n",
       " 0.8139573003673347,\n",
       " 0.6863093780907727]"
      ]
     },
     "execution_count": 28,
     "metadata": {},
     "output_type": "execute_result"
    }
   ],
   "source": [
    "[ dlugosc(x) for x in data ]"
   ]
  },
  {
   "cell_type": "code",
   "execution_count": 29,
   "metadata": {},
   "outputs": [],
   "source": [
    "data = [[random.random(),random.random()] for _ in range(100000)]"
   ]
  },
  {
   "cell_type": "code",
   "execution_count": 30,
   "metadata": {},
   "outputs": [],
   "source": [
    "normy = [norm(x) for x in data]"
   ]
  },
  {
   "cell_type": "code",
   "execution_count": 31,
   "metadata": {},
   "outputs": [
    {
     "data": {
      "text/plain": [
       "[0.7058086896464574,\n",
       " 1.059281390584013,\n",
       " 0.9638082013764714,\n",
       " 0.6253578482660748,\n",
       " 0.4803442846309783,\n",
       " 0.6696323970291219,\n",
       " 0.7813567629243566,\n",
       " 0.9322308585170149,\n",
       " 0.5525657484753972,\n",
       " 0.9161706217858715]"
      ]
     },
     "execution_count": 31,
     "metadata": {},
     "output_type": "execute_result"
    }
   ],
   "source": [
    "normy[:10]"
   ]
  },
  {
   "cell_type": "code",
   "execution_count": 32,
   "metadata": {},
   "outputs": [
    {
     "data": {
      "text/plain": [
       "[0.7058086896464574,\n",
       " 0.9638082013764714,\n",
       " 0.6253578482660748,\n",
       " 0.4803442846309783,\n",
       " 0.6696323970291219,\n",
       " 0.7813567629243566,\n",
       " 0.9322308585170149,\n",
       " 0.5525657484753972,\n",
       " 0.9161706217858715,\n",
       " 0.8451603186068369]"
      ]
     },
     "execution_count": 32,
     "metadata": {},
     "output_type": "execute_result"
    }
   ],
   "source": [
    "[x for x in normy if x<=1][:10]"
   ]
  },
  {
   "cell_type": "code",
   "execution_count": 33,
   "metadata": {},
   "outputs": [
    {
     "ename": "TypeError",
     "evalue": "'<=' not supported between instances of 'list' and 'int'",
     "output_type": "error",
     "traceback": [
      "\u001b[0;31m---------------------------------------------------------------------------\u001b[0m",
      "\u001b[0;31mTypeError\u001b[0m                                 Traceback (most recent call last)",
      "\u001b[0;32m<ipython-input-33-c22f4262a139>\u001b[0m in \u001b[0;36m<module>\u001b[0;34m\u001b[0m\n\u001b[0;32m----> 1\u001b[0;31m \u001b[0mnormy\u001b[0m\u001b[0;34m[\u001b[0m \u001b[0mnormy\u001b[0m\u001b[0;34m<=\u001b[0m\u001b[0;36m1\u001b[0m \u001b[0;34m]\u001b[0m\u001b[0;34m\u001b[0m\u001b[0;34m\u001b[0m\u001b[0m\n\u001b[0m",
      "\u001b[0;31mTypeError\u001b[0m: '<=' not supported between instances of 'list' and 'int'"
     ]
    }
   ],
   "source": [
    "normy[ normy<=1 ]"
   ]
  },
  {
   "cell_type": "code",
   "execution_count": 34,
   "metadata": {},
   "outputs": [],
   "source": [
    "normy = np.array(normy)"
   ]
  },
  {
   "cell_type": "code",
   "execution_count": 35,
   "metadata": {},
   "outputs": [
    {
     "data": {
      "text/plain": [
       "array([0.70580869, 0.9638082 , 0.62535785, ..., 0.36871959, 0.36313951,\n",
       "       0.79604591])"
      ]
     },
     "execution_count": 35,
     "metadata": {},
     "output_type": "execute_result"
    }
   ],
   "source": [
    "normy[ normy<=1 ]"
   ]
  },
  {
   "cell_type": "code",
   "execution_count": 36,
   "metadata": {},
   "outputs": [
    {
     "data": {
      "text/plain": [
       "78603"
      ]
     },
     "execution_count": 36,
     "metadata": {},
     "output_type": "execute_result"
    }
   ],
   "source": [
    "len(normy[normy<=1])"
   ]
  },
  {
   "cell_type": "code",
   "execution_count": 37,
   "metadata": {},
   "outputs": [
    {
     "data": {
      "text/plain": [
       "100000"
      ]
     },
     "execution_count": 37,
     "metadata": {},
     "output_type": "execute_result"
    }
   ],
   "source": [
    "len(normy)"
   ]
  },
  {
   "cell_type": "code",
   "execution_count": 38,
   "metadata": {},
   "outputs": [
    {
     "data": {
      "text/plain": [
       "3.14412"
      ]
     },
     "execution_count": 38,
     "metadata": {},
     "output_type": "execute_result"
    }
   ],
   "source": [
    "PI = 4*(len(normy[normy<=1])/len(normy))\n",
    "PI"
   ]
  },
  {
   "cell_type": "code",
   "execution_count": 39,
   "metadata": {},
   "outputs": [],
   "source": [
    "import math"
   ]
  },
  {
   "cell_type": "code",
   "execution_count": 42,
   "metadata": {},
   "outputs": [
    {
     "name": "stdout",
     "output_type": "stream",
     "text": [
      "3.14072\n",
      "3.13848\n",
      "3.1400266666666665\n",
      "3.13967\n",
      "3.140848\n"
     ]
    }
   ],
   "source": [
    "in_ = 0\n",
    "out_ = 0\n",
    "pi_values = []\n",
    "for i in range(5):\n",
    "    for j in range(100000):\n",
    "        x = random.randrange(-100,100)\n",
    "        y = random.randrange(-100,100)\n",
    "        if(x**2+y**2>100**2):\n",
    "            out_ = out_ + 1\n",
    "        else:\n",
    "            in_ = in_ + 1\n",
    "        pi = 4.0*in_/(in_+out_)\n",
    "        pi_values.append(pi)\n",
    "    print(pi_values[-1])"
   ]
  },
  {
   "cell_type": "code",
   "execution_count": 43,
   "metadata": {},
   "outputs": [
    {
     "data": {
      "image/png": "[encoded data removed]",
      "text/plain": [
       "<Figure size 432x288 with 1 Axes>"
      ]
     },
     "metadata": {
      "needs_background": "light"
     },
     "output_type": "display_data"
    }
   ],
   "source": [
    "plt.axhline(y=math.pi, color='g', linestyle='-')\n",
    "plt.plot(pi_values)\n",
    "plt.xlabel(\"iterations\")\n",
    "plt.ylabel(\"Pi value\")\n",
    "plt.show()"
   ]
  },
  {
   "cell_type": "markdown",
   "metadata": {},
   "source": [
    "### Programowanie obiektowe - Rzut kością"
   ]
  },
  {
   "cell_type": "code",
   "execution_count": null,
   "metadata": {},
   "outputs": [],
   "source": [
    "from random import randint\n",
    "\n",
    "class Die(object):\n",
    "    \"\"\"Pojedyncza kość do gry\"\"\"\n",
    "    def __init__(self, num_sides = 6):\n",
    "        \"\"\"Kość to zazwyczaj sześcian\"\"\"\n",
    "        self.num_sides = num_sides\n",
    "    \n",
    "    def roll(self):\n",
    "        \"\"\"Zwraca wartość 1 do liczby ścianek losowo\"\"\"\n",
    "        return randint(1,self.num_sides)\n",
    "\n",
    "\n",
    "# PROGRAM\n",
    "die = Die()\n",
    "\n",
    "results = []\n",
    "for roll_num in range(100):\n",
    "    result = die.roll()\n",
    "    results.append(result)\n",
    "\n",
    "print(results)   "
   ]
  },
  {
   "cell_type": "code",
   "execution_count": null,
   "metadata": {},
   "outputs": [],
   "source": [
    "### Błądzenie losowe"
   ]
  },
  {
   "cell_type": "code",
   "execution_count": null,
   "metadata": {},
   "outputs": [],
   "source": [
    "from random import choice\n",
    "class RandomWalk(object):\n",
    "    \"\"\"generowanie błądzenia losowego\"\"\"\n",
    "    def __init__(self, num_points=5000):\n",
    "        self.num_points = num_points\n",
    "        self.x_values = [0]\n",
    "        self.y_values = [0]\n",
    "\n",
    "    def fill_walk(self):\n",
    "        while len(self.x_values) < self.num_points:\n",
    "            x_direction = choice([-1,1])\n",
    "            x_distance = choice([0,1,2,3,4])\n",
    "            x_step = x_direction*x_distance\n",
    "\n",
    "            y_direction = choice([-1,1])\n",
    "            y_distance = choice([0,1,2,3,4])\n",
    "            y_step = y_direction*y_distance\n",
    "\n",
    "            if x_step == 0 and y_step == 0:\n",
    "                continue\n",
    "\n",
    "            next_x = self.x_values[-1] + x_step\n",
    "            next_y = self.y_values[-1] + y_step\n",
    "\n",
    "            self.x_values.append(next_x)\n",
    "            self.y_values.append(next_y)"
   ]
  },
  {
   "cell_type": "code",
   "execution_count": null,
   "metadata": {},
   "outputs": [],
   "source": [
    "rw = RandomWalk()\n",
    "rw.fill_walk()\n",
    "\n",
    "plt.scatter(rw.x_values, rw.y_values, s=15)\n",
    "plt.show()"
   ]
  },
  {
   "cell_type": "code",
   "execution_count": null,
   "metadata": {},
   "outputs": [],
   "source": [
    "rw = RandomWalk()\n",
    "rw.fill_walk()\n",
    "\n",
    "point_number = list(range(rw.num_points))\n",
    "plt.scatter(rw.x_values,rw.y_values, c=point_number, cmap=plt.cm.Blues, edgecolor='none', s=15)\n",
    "plt.scatter(0,0,c='green', edgecolor='none',s=100)\n",
    "plt.scatter(rw.x_values[-1],rw.y_values[-1], c='red',edgecolor='none', s=100)\n",
    "plt.axes().get_xaxis().set_visible(False)\n",
    "plt.axes().get_yaxis().set_visible(False)\n",
    "plt.show()"
   ]
  },
  {
   "cell_type": "code",
   "execution_count": null,
   "metadata": {},
   "outputs": [],
   "source": []
  },
  {
   "cell_type": "code",
   "execution_count": null,
   "metadata": {},
   "outputs": [],
   "source": []
  },
  {
   "cell_type": "code",
   "execution_count": null,
   "metadata": {},
   "outputs": [],
   "source": []
  },
  {
   "cell_type": "code",
   "execution_count": null,
   "metadata": {},
   "outputs": [],
   "source": []
  },
  {
   "cell_type": "code",
   "execution_count": null,
   "metadata": {},
   "outputs": [],
   "source": []
  },
  {
   "cell_type": "code",
   "execution_count": null,
   "metadata": {},
   "outputs": [],
   "source": []
  },
  {
   "cell_type": "code",
   "execution_count": null,
   "metadata": {},
   "outputs": [],
   "source": []
  },
  {
   "cell_type": "code",
   "execution_count": null,
   "metadata": {},
   "outputs": [],
   "source": []
  },
  {
   "cell_type": "code",
   "execution_count": null,
   "metadata": {},
   "outputs": [],
   "source": []
  },
  {
   "cell_type": "code",
   "execution_count": null,
   "metadata": {},
   "outputs": [],
   "source": []
  },
  {
   "cell_type": "code",
   "execution_count": null,
   "metadata": {},
   "outputs": [],
   "source": []
  },
  {
   "cell_type": "code",
   "execution_count": null,
   "metadata": {},
   "outputs": [],
   "source": []
  },
  {
   "cell_type": "code",
   "execution_count": null,
   "metadata": {},
   "outputs": [],
   "source": []
  },
  {
   "cell_type": "code",
   "execution_count": null,
   "metadata": {},
   "outputs": [],
   "source": []
  },
  {
   "cell_type": "code",
   "execution_count": null,
   "metadata": {},
   "outputs": [],
   "source": []
  },
  {
   "cell_type": "code",
   "execution_count": null,
   "metadata": {},
   "outputs": [],
   "source": [
    "rw = RandomWalk(50000)\n",
    "rw.fill_walk()\n",
    "\n",
    "point_number = list(range(rw.num_points))\n",
    "plt.scatter(rw.x_values,rw.y_values, c=point_number, cmap=plt.cm.Blues, edgecolor='none', s=1)\n",
    "plt.scatter(0,0,c='green', edgecolor='none',s=100)\n",
    "plt.scatter(rw.x_values[-1],rw.y_values[-1], c='red',edgecolor='none', s=100)\n",
    "plt.axes().get_xaxis().set_visible(False)\n",
    "plt.axes().get_yaxis().set_visible(False)\n",
    "plt.show()"
   ]
  }
 ],
 "metadata": {
  "kernelspec": {
   "display_name": "Python 3",
   "language": "python",
   "name": "python3"
  },
  "language_info": {
   "codemirror_mode": {
    "name": "ipython",
    "version": 3
   },
   "file_extension": ".py",
   "mimetype": "text/x-python",
   "name": "python",
   "nbconvert_exporter": "python",
   "pygments_lexer": "ipython3",
   "version": "3.8.6"
  }
 },
 "nbformat": 4,
 "nbformat_minor": 4
}
