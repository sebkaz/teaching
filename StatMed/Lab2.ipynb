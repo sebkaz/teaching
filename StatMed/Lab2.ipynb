{
  "nbformat": 4,
  "nbformat_minor": 0,
  "metadata": {
    "kernelspec": {
      "display_name": "Python 3",
      "language": "python",
      "name": "python3"
    },
    "language_info": {
      "codemirror_mode": {
        "name": "ipython",
        "version": 3
      },
      "file_extension": ".py",
      "mimetype": "text/x-python",
      "name": "python",
      "nbconvert_exporter": "python",
      "pygments_lexer": "ipython3",
      "version": "3.7.6"
    },
    "colab": {
      "name": "Lab2.ipynb",
      "provenance": [],
      "include_colab_link": true
    }
  },
  "cells": [
    {
      "cell_type": "markdown",
      "metadata": {
        "id": "view-in-github",
        "colab_type": "text"
      },
      "source": [
        "<a href=\"https://colab.research.google.com/github/sebkaz/teaching/blob/master/StatMed/Lab2.ipynb\" target=\"_parent\"><img src=\"https://colab.research.google.com/assets/colab-badge.svg\" alt=\"Open In Colab\"/></a>"
      ]
    },
    {
      "cell_type": "markdown",
      "metadata": {
        "id": "WZtnvJAlwbes"
      },
      "source": [
        "\n",
        "\n",
        "\n",
        "\n"
      ]
    },
    {
      "cell_type": "code",
      "metadata": {
        "id": "eYkAAjoUwbey"
      },
      "source": [
        "import numpy as np\n",
        "\n",
        "\n",
        "class Perceptron():\n",
        "    '''My first perception class '''\n",
        "    \n",
        "    def __init__(self, eta=0.01,n_iter=10):\n",
        "        self.eta = eta\n",
        "        self.n_iter = n_iter\n",
        "    \n",
        "    def fit(self, X,y):\n",
        "        self.w_ = np.zeros(1+X.shape[1])\n",
        "        self.errors_ = []\n",
        "        for _ in range(self.n_iter):\n",
        "            errors = 0\n",
        "            for xi, target in zip(X, y):\n",
        "                update = self.eta * (target - self.predict(xi))\n",
        "                self.w_[1:] += update * xi\n",
        "                self.w_[0] += update\n",
        "                errors +=int(update !=0.0)\n",
        "                # print(self.w_, errors)\n",
        "\n",
        "            self.errors_.append(errors)\n",
        "        return self\n",
        "    \n",
        "    def net_input(self, X):\n",
        "        return np.dot(X, self.w_[1:]) + self.w_[0]\n",
        "\n",
        "    def predict(self, X):\n",
        "        return np.where(self.net_input(X) >= 0.0, 1, -1)   "
      ],
      "execution_count": 6,
      "outputs": []
    },
    {
      "cell_type": "code",
      "metadata": {
        "id": "jyV_jJX2wbfN",
        "outputId": "e72f04d7-2bbc-4efe-97a5-93e59c5ee0b6",
        "colab": {
          "base_uri": "https://localhost:8080/",
          "height": 714
        }
      },
      "source": [
        "import pandas as pd\n",
        "df = pd.read_csv('https://archive.ics.uci.edu')"
      ],
      "execution_count": 5,
      "outputs": [
        {
          "output_type": "stream",
          "text": [
            "[-0.02 -0.04] 1\n",
            "[-0.02 -0.04] 1\n",
            "[0.   0.08] 2\n",
            "[0.   0.08] 2\n",
            "[-0.02  0.04] 1\n",
            "[-0.04 -0.04] 2\n",
            "[-0.02  0.08] 3\n",
            "[-0.02  0.08] 3\n",
            "[-0.04  0.04] 1\n",
            "[-0.06 -0.04] 2\n",
            "[-0.04  0.08] 3\n",
            "[-0.04  0.08] 3\n",
            "[-0.06  0.04] 1\n",
            "[-0.08 -0.04] 2\n",
            "[-0.06  0.08] 3\n",
            "[-0.06  0.08] 3\n",
            "[-0.08  0.04] 1\n",
            "[-0.1  -0.04] 2\n",
            "[-0.08  0.08] 3\n",
            "[-0.08  0.08] 3\n",
            "[-0.1   0.04] 1\n",
            "[-0.12 -0.04] 2\n",
            "[-0.1   0.08] 3\n",
            "[-0.1   0.08] 3\n",
            "[-0.12  0.04] 1\n",
            "[-0.14 -0.04] 2\n",
            "[-0.12  0.08] 3\n",
            "[-0.12  0.08] 3\n",
            "[-0.14  0.04] 1\n",
            "[-0.16 -0.04] 2\n",
            "[-0.14  0.08] 3\n",
            "[-0.14  0.08] 3\n",
            "[-0.16  0.04] 1\n",
            "[-0.16  0.04] 1\n",
            "[-0.16  0.04] 1\n",
            "[-0.16  0.04] 1\n",
            "[-0.16  0.04] 0\n",
            "[-0.16  0.04] 0\n",
            "[-0.16  0.04] 0\n",
            "[-0.16  0.04] 0\n",
            "[-0.16  0.04]\n"
          ],
          "name": "stdout"
        }
      ]
    },
    {
      "cell_type": "code",
      "metadata": {
        "id": "ddJik46gwbfh"
      },
      "source": [
        ""
      ],
      "execution_count": null,
      "outputs": []
    },
    {
      "cell_type": "code",
      "metadata": {
        "id": "QyxBa1-swbfr"
      },
      "source": [
        ""
      ],
      "execution_count": null,
      "outputs": []
    }
  ]
}