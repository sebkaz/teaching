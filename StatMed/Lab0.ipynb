{
 "cells": [
  {
   "cell_type": "markdown",
   "metadata": {},
   "source": [
    "# 1. Algorytmy Machine Learning w OOP Python"
   ]
  },
  {
   "cell_type": "markdown",
   "metadata": {},
   "source": [
    "## Uczenie maszynowe \n",
    "\n",
    "W ogólności rozróżniamy trzy odmiany uczenia maszynowego \n",
    "\n",
    "**Uczenie nadzorowane**\n",
    "\n",
    "**Uczenie nienadzorowane**\n",
    "\n",
    "**Uczenie przez wzmacnianie**\n",
    "\n",
    "1. Uczenie nadzorowane \n",
    "\n",
    "Jego głównym celem jest uczenie modelu za pomocą oznakowanych *danych uczących*, co pozwala przewidywać niewidoczne informacje. W tym przypadku `nadzorowane` odnosi się do zestawu próbek, w którym pożądane sygnały wyjściowe (etykiety, target) są znane. \n",
    "\n",
    "Np. Filtr antyspamowy: możemy trenować dany model stosując algorytm nadzorowanego uczenia maszynowego wobec treści oznakowanych wiadomości e-mail, dzięki czemu system jest w stanie przewidywać, czy przychodząca korespondencja zalicza się do jednej z tych dwóch kategorii. Etykiety mogą tworzyć skończony zbiór klas. Problemy realizowane w ten sposób nazywamy problemami **klasyfikacji**. W przypadku ciągłych etykiet rozwiązuje się problem **regresji**. \n",
    "\n",
    "- Klasyfikacja - najczęściej realizowany problem klasyfikacji binarnej - dobry, zły klient, W przypadku większej ilości klas realizowany jest problem klasyfikacji wieloklasowej - np. rozpoznawanie odręcznego pisma (10 cyfr, lub litery)\n",
    "\n",
    "- Regresja - przewidywanie wartości ciągłych. Pojęcie regresji pochodzi już z 1886 roku, wprowadzone zostało przez Francisa Galtona. \n",
    "\n",
    "2. Uczenie przez wzmacnianie\n",
    "\n",
    "W tym przypadku celem jest utworzenie systemu (agenta), który poprawia własną skuteczność na podstawie interakcji ze środowiskiem. Ingormacje na temat bieżącego stanu środowiska zazwyczaj zawierają także tzw. nagrody, dlatego możemy uznać uczenie przez wzmacnianie jako model powiązany z uczeniem nadzorowanym. Jendak w przypadku uczenia przez wzmacnianie sprzężeniem tym nie są poprawne, wzorce etykiety lub wartości, lecz wartość skuteczności pomiaru działania przez funkcję nagrody. Poprzez oddziaływanie ze środowiskiem regulator może wykorzystać uczenie przez wzmacnianie do trenowania szeregu działań dążących do maksymalizowania nagrody metodą prób i błędów lub rozważnego planowania. \n",
    "\n",
    "Standardowym przykładem tego typu uczenia jest silnik szachowy, lub inne gry. \n",
    "\n",
    "3. Ukryte struktury i ich odkrywanie za pomocą uczenia nienadzorowanego \n",
    "\n",
    "W przypadku uczenia nadzowrowanego znamy odpowiedź jeszcze przed rozpoczęciem trenowania danego modelu, z kolei w uczeniu przez wzmacnianie wykorzystujemy regulator do definiowania wartości nagród dla poszczególnych dziłań. Natomiast korzystając z technik uczenia nienadzorowanego mamy do czynienia z nioznakowanymi danymi lub danymi o nieznanej strukturze. Dzięli modelom uczenia nienadozrowanego jesteśmy w stanie poznawać strukturę przetrarzanych danych i uzyskiwać użyteczne informacje bez stosowania znanje zmiennej wyjściowej lub funkcji nagrody. \n",
    "\n",
    "- Grupowanie, klasteryzacja, analiza skupień \n",
    "\n",
    "nazywamy technikę badawczą analizy danych pozwalającą na organizowanie zestawów informacji w sensowne podzbiory (`klastry, grupy`) bez uprzedniej wiedzy na temat przydziału grupowego poszczególnych danych. Każdy klaster powstający w wyniku analizy definiuje zbiór obiektów wykazujących między sobą pewne podobieństwa i odróżniających się od siebie elementów umieszczonych w pozostałych grupach. Ta technika nadaje się świetnie do strukturyzowania informacji oraz wyznaczania istotnych powiązań pomiędzy danymi np. odkrywać i identyfikować grupy klientów według ich zainteresowań np w celu różnicowania programów marketingowych. \n",
    "\n",
    "- Redukcja wymiarowości w celu kompresji danych \n",
    "\n",
    "Często pracujemy z danymi wielowymiarowymi co stanowi wyzwanie w przypadku ograniczonej pojemności nośników danych oraz skuteczności obliczeniowej algorytmów uczenia maszynowego. Technika ta jest stosowana powszechnie we wstępnym przetwarzaniu cech w celu wykluczenia szumu z danych (zmniejsza skuteczność predykcji) a do tego kompresuje dane do podprzestrzeni o mniejszej liczbie wymiarów przy zachowaniu istotnej informacji. \n",
    "\n",
    "\n",
    "\n",
    "### Algorytmy uczenia maszynowego w klasyfikacji binarnej \n",
    "\n",
    "Jeden z najwcześniejszych algorytmów klasyfikacyjnych to model `Perceprtonu`.\n",
    "\n",
    "Warren McCulloch i Walter Pitts pragnęli zrozumieć mechanizm działania mózgu po to, aby zaprojektować sztuczną inteligencję i w 1943 roku zaprezentowali pierwszą koncepcję uproszczonego modelu komórki nerwowej, tzw `neuronu McCulloch-Pittsa`. \n",
    "\n",
    "`Neuronami` nazywamy wzajemnie połączone komórki nerwowe w mózgu, które są odpowiedzialne za przetwarzanie oraz przesyłanie sygnałów chemicznych i elektrycznych. \n",
    "\n",
    "\n",
    "<img src=\"https://www.sos.sk/novinky/obr/obr2339_p094fca3946ce.jpg\"> \n",
    "\n",
    "Opisali oni taką komórkę nerwową jako prostą bramkę logiczną zawierającą binarne wyjścia. \n",
    "\n",
    "Do dendrytów dociera wiele sygnałów, które są integrowane w ciele komórki i, jeżeli energia impulsu przekracza określoną wartość graniczną zostaje wygenerowany sygnał wyjściowy przepuszczany przez akson. \n",
    "\n",
    "Kilka lat później Frank Rosenblatt na podstawie modelu neuronu MCP opublikował pierwszą koncepcję reguły uczenia perceprtronu (1957). Korzystając z tej reguły, Rosenblatt zaproponował algorytm zdolny do automatycznego uczenia się za pomocą optymalnych współczynników wag, które są przemnażane przez wartości wejściowe, co pozwala określić, czy neuron prześle dalej sygnał.\n",
    "\n",
    "W kontekście uczenia nadzorowanego i klasyfikacji taki algorytm może być wykorzystywany do przeridywania próbek przynależnych do różnych klas. \n",
    "\n",
    "\n",
    "W ujęciu matematycznym możemy przedstawić ten problem jako klasyfikację binarną, w której (dla uproszczenia) ustalmy dwie klasy: $-1, 1$.\n",
    "\n",
    "Następnie definiujemy funkcję aktywacji $\\phi(z)$, na którą składa się liniowa kombinacja określonych wartości wejściowych $x$ oraz powiązanego z nimi wektora wag $w$. $z$ nosi nazwę całkowitego pobudzenia układu $z=w_1 x_1+ \\dots + w_n x_n$\n",
    "\n",
    "Jeśli całkowite pobudzenie $z$ danej próbki $x^(i)$ jest wyższe od pewnej wartości granicznej $\\theta$, to przewidujemy, że dany obiekt przynależy do klasy pozytywnej $1$, w przeciwnym wypadku oznaczamy go jako $-1$. \n",
    "W algorytmie perceprtonu funkcja aktywacji $\\phi()$ jest prostą **funkcją skokową Heaviside'a**.\n",
    "\n",
    "\n",
    "Możemy dla uproszczenia przenieść wartość progową $\\theta$ na lewą stronę równania i zdefiniować początkową wagę jako $w_0=-\\theta$ a $x_0=1$, dzięki czemu całkowite pobudzenie $z$ przybierze prostszą postać \n",
    "\n",
    "$$z = w_0 x_0 + w_1 x_1 + \\dots + w_n x_n = w^T x$$ \n",
    "\n",
    "\n",
    "Podstawowym założeniem w neuronie MCP i modelu perceptronu progowego jest wprowadzenie uproszczonego mechanizmu naśladującego  działanie pojedynczej komórki nerwowej: albo zostaje ona uaktywniona, albo nie. \n",
    "\n",
    " - Schemat realizacji: \n",
    "\n",
    "1. Wprowadź wagi o wartości 0 lub niewielkich, losowych wartościach\n",
    "2. Dla każdej próbki uczącej $x^{(i)}$ wykonaj poniższe czynności:\n",
    "\n",
    "    a) Oblicz wartość wyjściową $\\hat{y}$\n",
    "\n",
    "    b) Zaktualizuj wagi\n",
    "    \n",
    "    "
   ]
  },
  {
   "cell_type": "markdown",
   "metadata": {},
   "source": [
    "Akutalizacja wag\n",
    "\n",
    "$$ w_j := w_j + \\Delta w_j $$"
   ]
  },
  {
   "cell_type": "markdown",
   "metadata": {},
   "source": [
    "$$ \\Delta w_j = \\eta (y^{(i)}-\\hat{y}^{(i)})x_j^{(i)} $$\n",
    "\n",
    "gdzie $\\eta$ `Learning rate`\n",
    "    "
   ]
  },
  {
   "cell_type": "code",
   "execution_count": 1,
   "metadata": {},
   "outputs": [],
   "source": [
    "import numpy as np\n",
    "import matplotlib.pyplot as plt"
   ]
  },
  {
   "cell_type": "markdown",
   "metadata": {},
   "source": [
    "### Klasyfikacja binarna"
   ]
  },
  {
   "cell_type": "code",
   "execution_count": 4,
   "metadata": {},
   "outputs": [
    {
     "data": {
      "image/png": "[encoded data removed]",
      "text/plain": [
       "<Figure size 432x288 with 1 Axes>"
      ]
     },
     "metadata": {
      "needs_background": "light"
     },
     "output_type": "display_data"
    }
   ],
   "source": [
    "# dwa wiersze danych realizujące pierwszą klasę\n",
    "x1 = [1,2]\n",
    "x2 = [3,4]\n",
    "# dwa wiersze danych realizujące drugą klasę \n",
    "y1 = [-1,-1]\n",
    "y2 = [1,1]\n",
    "plt.scatter(x1, y1, marker='o', color='r')\n",
    "plt.scatter(x2, y2, marker='x', color='b')\n",
    "plt.show()"
   ]
  },
  {
   "cell_type": "markdown",
   "metadata": {},
   "source": [
    "nasze dane w postaci macierzowej"
   ]
  },
  {
   "cell_type": "code",
   "execution_count": 15,
   "metadata": {},
   "outputs": [],
   "source": [
    "X=np.array([[1],[2],[3],[4]])"
   ]
  },
  {
   "cell_type": "code",
   "execution_count": 16,
   "metadata": {},
   "outputs": [
    {
     "data": {
      "text/plain": [
       "(4, 1)"
      ]
     },
     "execution_count": 16,
     "metadata": {},
     "output_type": "execute_result"
    }
   ],
   "source": [
    "X.shape"
   ]
  },
  {
   "cell_type": "markdown",
   "metadata": {},
   "source": [
    "dodajemy kolumnę 1 aby przesunąć wartość progową z $\\theta$ na 0"
   ]
  },
  {
   "cell_type": "code",
   "execution_count": 17,
   "metadata": {},
   "outputs": [
    {
     "data": {
      "text/plain": [
       "array([0., 0.])"
      ]
     },
     "execution_count": 17,
     "metadata": {},
     "output_type": "execute_result"
    }
   ],
   "source": [
    "np.zeros(1+X.shape[1])"
   ]
  },
  {
   "cell_type": "markdown",
   "metadata": {},
   "source": [
    "### Nasza pierwsza klasa - Perceprton"
   ]
  },
  {
   "cell_type": "code",
   "execution_count": 42,
   "metadata": {},
   "outputs": [],
   "source": [
    "class Perceptron():\n",
    "    \n",
    "    def __init__(self,eta=0.01, n_iter=10):\n",
    "        self.eta = eta\n",
    "        self.n_iter = n_iter\n",
    "    \n",
    "    def fit(self, X, y):\n",
    "        self.w_ = np.zeros(1+X.shape[1])\n",
    "        self.errors_ = []\n",
    "        \n",
    "        for _ in range(self.n_iter):\n",
    "            errors = 0\n",
    "            for xi, target in zip(X,y):\n",
    "                print(xi, target)\n",
    "                update = self.eta*(target-self.predict(xi))\n",
    "                print(update)\n",
    "                self.w_[1:] += update*xi\n",
    "                self.w_[0] += update\n",
    "                print(self.w_)\n",
    "                errors += int(update != 0.0)\n",
    "            self.errors_.append(errors)\n",
    "        return self\n",
    "    \n",
    "    def net_input(self, X):\n",
    "        return np.dot(X, self.w_[1:])+self.w_[0]\n",
    "    \n",
    "    def predict(self, X):\n",
    "        return np.where(self.net_input(X)>=0.0,1,-1)"
   ]
  },
  {
   "cell_type": "code",
   "execution_count": 43,
   "metadata": {},
   "outputs": [],
   "source": [
    "a = Perceptron()"
   ]
  },
  {
   "cell_type": "code",
   "execution_count": 47,
   "metadata": {},
   "outputs": [],
   "source": [
    "X = np.array([[1],[2],[3],[4]])"
   ]
  },
  {
   "cell_type": "code",
   "execution_count": 48,
   "metadata": {},
   "outputs": [
    {
     "data": {
      "text/plain": [
       "array([[1],\n",
       "       [2],\n",
       "       [3],\n",
       "       [4]])"
      ]
     },
     "execution_count": 48,
     "metadata": {},
     "output_type": "execute_result"
    }
   ],
   "source": [
    "X"
   ]
  },
  {
   "cell_type": "code",
   "execution_count": 49,
   "metadata": {},
   "outputs": [],
   "source": [
    "y = [-1,-1,1,1]"
   ]
  },
  {
   "cell_type": "code",
   "execution_count": 50,
   "metadata": {},
   "outputs": [
    {
     "name": "stdout",
     "output_type": "stream",
     "text": [
      "[1] -1\n",
      "-0.02\n",
      "[-0.02 -0.02]\n",
      "[2] -1\n",
      "0.0\n",
      "[-0.02 -0.02]\n",
      "[3] 1\n",
      "0.02\n",
      "[0.   0.04]\n",
      "[4] 1\n",
      "0.0\n",
      "[0.   0.04]\n",
      "[1] -1\n",
      "-0.02\n",
      "[-0.02  0.02]\n",
      "[2] -1\n",
      "-0.02\n",
      "[-0.04 -0.02]\n",
      "[3] 1\n",
      "0.02\n",
      "[-0.02  0.04]\n",
      "[4] 1\n",
      "0.0\n",
      "[-0.02  0.04]\n",
      "[1] -1\n",
      "-0.02\n",
      "[-0.04  0.02]\n",
      "[2] -1\n",
      "0.0\n",
      "[-0.04  0.02]\n",
      "[3] 1\n",
      "0.0\n",
      "[-0.04  0.02]\n",
      "[4] 1\n",
      "0.0\n",
      "[-0.04  0.02]\n",
      "[1] -1\n",
      "0.0\n",
      "[-0.04  0.02]\n",
      "[2] -1\n",
      "0.0\n",
      "[-0.04  0.02]\n",
      "[3] 1\n",
      "0.0\n",
      "[-0.04  0.02]\n",
      "[4] 1\n",
      "0.0\n",
      "[-0.04  0.02]\n",
      "[1] -1\n",
      "0.0\n",
      "[-0.04  0.02]\n",
      "[2] -1\n",
      "0.0\n",
      "[-0.04  0.02]\n",
      "[3] 1\n",
      "0.0\n",
      "[-0.04  0.02]\n",
      "[4] 1\n",
      "0.0\n",
      "[-0.04  0.02]\n",
      "[1] -1\n",
      "0.0\n",
      "[-0.04  0.02]\n",
      "[2] -1\n",
      "0.0\n",
      "[-0.04  0.02]\n",
      "[3] 1\n",
      "0.0\n",
      "[-0.04  0.02]\n",
      "[4] 1\n",
      "0.0\n",
      "[-0.04  0.02]\n",
      "[1] -1\n",
      "0.0\n",
      "[-0.04  0.02]\n",
      "[2] -1\n",
      "0.0\n",
      "[-0.04  0.02]\n",
      "[3] 1\n",
      "0.0\n",
      "[-0.04  0.02]\n",
      "[4] 1\n",
      "0.0\n",
      "[-0.04  0.02]\n",
      "[1] -1\n",
      "0.0\n",
      "[-0.04  0.02]\n",
      "[2] -1\n",
      "0.0\n",
      "[-0.04  0.02]\n",
      "[3] 1\n",
      "0.0\n",
      "[-0.04  0.02]\n",
      "[4] 1\n",
      "0.0\n",
      "[-0.04  0.02]\n",
      "[1] -1\n",
      "0.0\n",
      "[-0.04  0.02]\n",
      "[2] -1\n",
      "0.0\n",
      "[-0.04  0.02]\n",
      "[3] 1\n",
      "0.0\n",
      "[-0.04  0.02]\n",
      "[4] 1\n",
      "0.0\n",
      "[-0.04  0.02]\n",
      "[1] -1\n",
      "0.0\n",
      "[-0.04  0.02]\n",
      "[2] -1\n",
      "0.0\n",
      "[-0.04  0.02]\n",
      "[3] 1\n",
      "0.0\n",
      "[-0.04  0.02]\n",
      "[4] 1\n",
      "0.0\n",
      "[-0.04  0.02]\n"
     ]
    },
    {
     "data": {
      "text/plain": [
       "<__main__.Perceptron at 0x11d9e4430>"
      ]
     },
     "execution_count": 50,
     "metadata": {},
     "output_type": "execute_result"
    }
   ],
   "source": [
    "a.fit(X,y)"
   ]
  },
  {
   "cell_type": "code",
   "execution_count": 39,
   "metadata": {},
   "outputs": [
    {
     "data": {
      "text/plain": [
       "0.01"
      ]
     },
     "execution_count": 39,
     "metadata": {},
     "output_type": "execute_result"
    }
   ],
   "source": [
    "a.eta"
   ]
  },
  {
   "cell_type": "code",
   "execution_count": 51,
   "metadata": {},
   "outputs": [
    {
     "data": {
      "text/plain": [
       "[2, 3, 1, 0, 0, 0, 0, 0, 0, 0]"
      ]
     },
     "execution_count": 51,
     "metadata": {},
     "output_type": "execute_result"
    }
   ],
   "source": [
    "a.errors_"
   ]
  },
  {
   "cell_type": "code",
   "execution_count": 58,
   "metadata": {},
   "outputs": [
    {
     "data": {
      "text/plain": [
       "array([0.02, 0.04, 0.06, 0.08])"
      ]
     },
     "execution_count": 58,
     "metadata": {},
     "output_type": "execute_result"
    }
   ],
   "source": [
    "np.dot(X,a.w_[1:])"
   ]
  },
  {
   "cell_type": "code",
   "execution_count": 57,
   "metadata": {},
   "outputs": [
    {
     "data": {
      "text/plain": [
       "-0.04"
      ]
     },
     "execution_count": 57,
     "metadata": {},
     "output_type": "execute_result"
    }
   ],
   "source": [
    "a.w_[0]"
   ]
  },
  {
   "cell_type": "markdown",
   "metadata": {},
   "source": [
    "## Zadanie \n",
    "\n",
    "Napisz Perceptrona w wersji z losowymi, małymi wagami "
   ]
  },
  {
   "cell_type": "code",
   "execution_count": null,
   "metadata": {},
   "outputs": [],
   "source": []
  }
 ],
 "metadata": {
  "kernelspec": {
   "display_name": "Python 3",
   "language": "python",
   "name": "python3"
  },
  "language_info": {
   "codemirror_mode": {
    "name": "ipython",
    "version": 3
   },
   "file_extension": ".py",
   "mimetype": "text/x-python",
   "name": "python",
   "nbconvert_exporter": "python",
   "pygments_lexer": "ipython3",
   "version": "3.8.6"
  }
 },
 "nbformat": 4,
 "nbformat_minor": 4
}
