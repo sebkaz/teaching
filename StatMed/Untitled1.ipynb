{
 "cells": [
  {
   "cell_type": "code",
   "execution_count": null,
   "metadata": {},
   "outputs": [],
   "source": [
    "import numpy as np\n",
    "import pandas as pd\n",
    "import matplotlib.pyplot as plt"
   ]
  },
  {
   "cell_type": "code",
   "execution_count": null,
   "metadata": {},
   "outputs": [],
   "source": [
    "df = pd.read_csv('daily-bike-share.csv')"
   ]
  },
  {
   "cell_type": "code",
   "execution_count": null,
   "metadata": {},
   "outputs": [],
   "source": [
    "class EDA():\n",
    "    \"\"\" Explorating Data Analysis for linear regression models\"\"\"\n",
    "    def __init__(self, df, target: str ,num_list=[], cat_list=[]):\n",
    "        self.df = df\n",
    "        self.target = target\n",
    "        self.num_list = num_list\n",
    "        self.cat_list = cat_list\n",
    "    \n",
    "    def target_plot(self):\n",
    "        self.__hist_plot(self.df, self.target)\n",
    "     \n",
    "    \n",
    "    def one_num_analysis(self):\n",
    "        for col in self.num_list:\n",
    "            self.__hist_plot(self.df,col)\n",
    "    \n",
    "    def one_cat_analysis(self):\n",
    "        for col in self.cat_list:\n",
    "            self.__cat_plot(self.df,col)\n",
    "\n",
    "    @staticmethod\n",
    "    def __cat_plot(df,col):\n",
    "        counts = df[col].value_counts().sort_index()\n",
    "        fig = plt.figure(figsize=(9,6))\n",
    "        ax = fig.gca()\n",
    "        counts.plot.bar(ax=ax, color='lightblue')\n",
    "        ax.set_title(col+ ' counts')\n",
    "        ax.set_xlabel(col)\n",
    "        ax.set_ylabel(\"Freq\")\n",
    "        plt.show()\n",
    "    \n",
    "    \n",
    "    @staticmethod\n",
    "    def __hist_plot(df,feature):\n",
    "        label = df[feature]\n",
    "        fig = plt.figure(figsize=(9,12))\n",
    "        a = fig.add_subplot(2,1,1)\n",
    "        label.plot.hist(color='lightblue', bins=100)\n",
    "        plt.axvline(label.mean(), color=\"magenta\", linestyle='dashed', linewidth=2)\n",
    "        plt.axvline(label.median(), color=\"green\", linestyle='dashed', linewidth=2)\n",
    "        a.set_title('Histogram')\n",
    "        a = fig.add_subplot(2,1,2)\n",
    "        label.plot(kind='box', vert=False)\n",
    "        a.set_title('Boxplot')\n",
    "        plt.show()"
   ]
  },
  {
   "cell_type": "code",
   "execution_count": null,
   "metadata": {},
   "outputs": [],
   "source": [
    "EDA.__doc__"
   ]
  },
  {
   "cell_type": "code",
   "execution_count": null,
   "metadata": {},
   "outputs": [],
   "source": [
    "a = EDA(df,'rentals',['temp','atemp','hum','windspeed'], ['season','mnth','holiday','weekday','workingday','weathersit'])"
   ]
  },
  {
   "cell_type": "code",
   "execution_count": null,
   "metadata": {},
   "outputs": [],
   "source": [
    "a.target_plot()"
   ]
  },
  {
   "cell_type": "code",
   "execution_count": null,
   "metadata": {},
   "outputs": [],
   "source": [
    "a.one_cat_analysis()"
   ]
  },
  {
   "cell_type": "code",
   "execution_count": null,
   "metadata": {},
   "outputs": [],
   "source": []
  }
 ],
 "metadata": {
  "kernelspec": {
   "display_name": "Python 3",
   "language": "python",
   "name": "python3"
  },
  "language_info": {
   "codemirror_mode": {
    "name": "ipython",
    "version": 3
   },
   "file_extension": ".py",
   "mimetype": "text/x-python",
   "name": "python",
   "nbconvert_exporter": "python",
   "pygments_lexer": "ipython3",
   "version": "3.8.6"
  }
 },
 "nbformat": 4,
 "nbformat_minor": 4
}
